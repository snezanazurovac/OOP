{
 "cells": [
  {
   "cell_type": "markdown",
   "metadata": {},
   "source": [
    "# Object Oriented Programming "
   ]
  },
  {
   "cell_type": "code",
   "execution_count": null,
   "metadata": {},
   "outputs": [],
   "source": [
    "I part of this challenge is to make store for film seling\n",
    "II part of this chalenge is to make BANK acount "
   ]
  },
  {
   "cell_type": "raw",
   "metadata": {},
   "source": [
    "I challenge\n",
    "\n",
    "#1)create a FILM class with next atributs:\n",
    "   (id,name,genre,price)\n",
    "    \n",
    "#2)create a Bill class with next atributs(id,film_list)\n",
    "   methods(add_film,remove_film,calcul_bill)\n",
    "\n",
    "#3)create User class with next atributs\n",
    "  (id_user,name,surname,date,unpaid_buill,debit)\n"
   ]
  },
  {
   "cell_type": "code",
   "execution_count": 286,
   "metadata": {},
   "outputs": [],
   "source": [
    "\n",
    "class Film:\n",
    "    \n",
    "    def __init__(self,id,name,genre,price):\n",
    "        \n",
    "        self.id=id\n",
    "        self.name=name\n",
    "        self.genre=genre\n",
    "        self.price=price\n",
    "        \n",
    "        \n",
    "    def __repr__(self):\n",
    "        \n",
    "        return str(f\"\\nFilm_id:{self.id} \\nTitle:{self.name}\\nGener:{self.genre}\\nPrice:{self.price}\")\n",
    "\n",
    "\n",
    "class Bill:\n",
    "    \n",
    "    def __init__(self,id:int,film_list:list):\n",
    "        \n",
    "        self.id=id\n",
    "        self.film_list=film_list\n",
    "        self.cena=0\n",
    "        \n",
    "        \n",
    "    def calcul_bill(self):\n",
    "        \n",
    "        price_list=[film.price for film in self.film_list]\n",
    "        total=sum(price_list)\n",
    "        \n",
    "        return sum(price_list)\n",
    "    \n",
    "    \n",
    "    def add_film(self,film:Film):\n",
    "        \n",
    "        self.film_list.append(film)\n",
    "        \n",
    "        \n",
    "    def remove_film(self):\n",
    "        \n",
    "        for film in self.film_list:\n",
    "            print('Name:{} Id:{}'.format(film.name,film.id))\n",
    "            \n",
    "        idd=int(input(\"Input number of film ID You want to remove= \"))   \n",
    "        \n",
    "        if idd  in [ film.id for film in self.film_list]:\n",
    "            for film in self.film_list:\n",
    "                if film.id==idd:\n",
    "                    self.film_list.remove(film)\n",
    "                    print('Film_id:{} name:{} was removed'.format(film.id,film.name))\n",
    "        else:\n",
    "            print(\"Id not in film_list\")        \n",
    "                \n",
    "                    \n",
    "    \n",
    "    def __repr__(self):\n",
    "        \n",
    "        rez=''\n",
    "        rez+=\"Bill ID: {}\\n\".format(self.id)\n",
    "        rez+=\"\\n\"\n",
    "        for film in (self.film_list):\n",
    "            rez+='Name:{:10} Price:{:5}\\n'.format(film.name,film.price)\n",
    "        total=sum([film.price for film in self.film_list])\n",
    "        rez+=\"\\n\"\n",
    "        rez+=\" Total price: {} \".format(total)\n",
    "        \n",
    "        return rez\n",
    "    \n",
    "    \n",
    "#3)create User class with next atributs (id_user,name,surname,date,upaid_buill,debit)\n",
    "\n",
    "class User:\n",
    "    \n",
    "    def __init__(self,id_user:int,user_name:str,date:str,unpaid_bill:list,debit=0):\n",
    "        \n",
    "        self.id_user=id_user\n",
    "        self.user_name=user_name\n",
    "        self.date=date\n",
    "        self.unpaid_bill=unpaid_bill\n",
    "        self.debit=debit\n",
    "        \n",
    "      \n",
    "    def debitt(self):\n",
    "        \n",
    "        price_list=( [ bill.calcul_bill() for bill in self.unpaid_bill ] )\n",
    "        \n",
    "        self.debit=sum(price_list)\n",
    "        \n",
    "        return sum(price_list)\n",
    "    \n",
    "        \n",
    "    def __repr__(self):\n",
    "        \n",
    "        rez=\" \"\n",
    "        rez+=str(('User_id {}\\n Name {}\\n Date {}\\n {} '.format(self.id_user,self.user_name,self.date,self.debit)))\n",
    "        rez+=str(self.unpaid_bill)\n",
    "        \n",
    "        return rez\n",
    "        \n",
    "\n",
    "        "
   ]
  },
  {
   "cell_type": "code",
   "execution_count": 287,
   "metadata": {},
   "outputs": [
    {
     "name": "stdout",
     "output_type": "stream",
     "text": [
      "\n",
      "Film_id:1 \n",
      "Title:Space\n",
      "Gener:comady\n",
      "Price:10\n"
     ]
    }
   ],
   "source": [
    "\n",
    "#let's put value in lists\n",
    "\n",
    "id_num=[1,2,3,4]\n",
    "names=[\"Space\",\"Bad man\",\"Father\",\"Pggy\"]\n",
    "ganers=['comady','trailer','drama','comedy']\n",
    "prices=[10,20,15,25]\n",
    "\n",
    "# let's make some instance of Film class\n",
    "\n",
    "film1=Film(id_num[0],names[0],ganers[0],prices[0])\n",
    "film2=Film(id_num[1],names[1],ganers[1],prices[1])\n",
    "film3=Film(id_num[2],names[2],ganers[2],prices[2])\n",
    "film4=Film(id_num[3],names[3],ganers[3],prices[3])\n",
    "\n",
    "print(film1)"
   ]
  },
  {
   "cell_type": "code",
   "execution_count": 288,
   "metadata": {},
   "outputs": [
    {
     "name": "stdout",
     "output_type": "stream",
     "text": [
      "Bill ID: 1\n",
      "\n",
      "Name:Space      Price:   10\n",
      "Name:Bad man    Price:   20\n",
      "Name:Father     Price:   15\n",
      "\n",
      " Total price: 45 \n"
     ]
    }
   ],
   "source": [
    "bill1=Bill(1,[film1,film2,film3])\n",
    "bill1.calcul_bill()\n",
    "print(bill1)"
   ]
  },
  {
   "cell_type": "code",
   "execution_count": 289,
   "metadata": {},
   "outputs": [],
   "source": [
    "bill1.add_film(film4)"
   ]
  },
  {
   "cell_type": "code",
   "execution_count": 290,
   "metadata": {},
   "outputs": [
    {
     "name": "stdout",
     "output_type": "stream",
     "text": [
      "Bill ID: 1\n",
      "\n",
      "Name:Space      Price:   10\n",
      "Name:Bad man    Price:   20\n",
      "Name:Father     Price:   15\n",
      "Name:Pggy       Price:   25\n",
      "\n",
      " Total price: 70 \n"
     ]
    }
   ],
   "source": [
    "bill1.calcul_bill()\n",
    "print(bill1)"
   ]
  },
  {
   "cell_type": "code",
   "execution_count": 291,
   "metadata": {},
   "outputs": [
    {
     "data": {
      "text/plain": [
       "45"
      ]
     },
     "execution_count": 291,
     "metadata": {},
     "output_type": "execute_result"
    }
   ],
   "source": [
    "bill2=Bill(2,[film2,film4])\n",
    "bill2.calcul_bill()"
   ]
  },
  {
   "cell_type": "code",
   "execution_count": 292,
   "metadata": {},
   "outputs": [
    {
     "name": "stdout",
     "output_type": "stream",
     "text": [
      "Bill ID: 1\n",
      "\n",
      "Name:Space      Price:   10\n",
      "Name:Bad man    Price:   20\n",
      "Name:Father     Price:   15\n",
      "Name:Pggy       Price:   25\n",
      "\n",
      " Total price: 70 \n"
     ]
    }
   ],
   "source": [
    "print(bill1)"
   ]
  },
  {
   "cell_type": "code",
   "execution_count": 293,
   "metadata": {
    "scrolled": true
   },
   "outputs": [
    {
     "name": "stdout",
     "output_type": "stream",
     "text": [
      "Bill ID: 3\n",
      "\n",
      "Name:Space      Price:   10\n",
      "Name:Father     Price:   15\n",
      "\n",
      " Total price: 25 \n"
     ]
    }
   ],
   "source": [
    "bill3=Bill(3,[film1,film3])\n",
    "bill3.calcul_bill()\n",
    "print(bill3)"
   ]
  },
  {
   "cell_type": "code",
   "execution_count": 294,
   "metadata": {},
   "outputs": [],
   "source": [
    "user1=User(1,\"Ana Petrovic\",'21-10-2005',[bill1,bill2])\n"
   ]
  },
  {
   "cell_type": "code",
   "execution_count": 295,
   "metadata": {},
   "outputs": [
    {
     "data": {
      "text/plain": [
       "[Bill ID: 1\n",
       " \n",
       " Name:Space      Price:   10\n",
       " Name:Bad man    Price:   20\n",
       " Name:Father     Price:   15\n",
       " Name:Pggy       Price:   25\n",
       " \n",
       "  Total price: 70 ,\n",
       " Bill ID: 2\n",
       " \n",
       " Name:Bad man    Price:   20\n",
       " Name:Pggy       Price:   25\n",
       " \n",
       "  Total price: 45 ]"
      ]
     },
     "execution_count": 295,
     "metadata": {},
     "output_type": "execute_result"
    }
   ],
   "source": [
    "user1.unpaid_bill"
   ]
  },
  {
   "cell_type": "code",
   "execution_count": 296,
   "metadata": {},
   "outputs": [],
   "source": [
    "bill2.add_film(film3)"
   ]
  },
  {
   "cell_type": "code",
   "execution_count": 297,
   "metadata": {},
   "outputs": [
    {
     "name": "stdout",
     "output_type": "stream",
     "text": [
      "Bill ID: 2\n",
      "\n",
      "Name:Bad man    Price:   20\n",
      "Name:Pggy       Price:   25\n",
      "Name:Father     Price:   15\n",
      "\n",
      " Total price: 60 \n"
     ]
    }
   ],
   "source": [
    "bill2.calcul_bill()\n",
    "print(bill2)"
   ]
  },
  {
   "cell_type": "code",
   "execution_count": 298,
   "metadata": {},
   "outputs": [
    {
     "name": "stdout",
     "output_type": "stream",
     "text": [
      "Bill ID: 3\n",
      "\n",
      "Name:Space      Price:   10\n",
      "Name:Bad man    Price:   20\n",
      "Name:Father     Price:   15\n",
      "Name:Pggy       Price:   25\n",
      "\n",
      " Total price: 70 \n"
     ]
    }
   ],
   "source": [
    "bill3=Bill(3,[film1,film2,film3,film4])\n",
    "print(bill3)"
   ]
  },
  {
   "cell_type": "code",
   "execution_count": 299,
   "metadata": {},
   "outputs": [
    {
     "data": {
      "text/plain": [
       "[\n",
       " Film_id:1 \n",
       " Title:Space\n",
       " Gener:comady\n",
       " Price:10,\n",
       " \n",
       " Film_id:2 \n",
       " Title:Bad man\n",
       " Gener:trailer\n",
       " Price:20,\n",
       " \n",
       " Film_id:3 \n",
       " Title:Father\n",
       " Gener:drama\n",
       " Price:15,\n",
       " \n",
       " Film_id:4 \n",
       " Title:Pggy\n",
       " Gener:comedy\n",
       " Price:25]"
      ]
     },
     "execution_count": 299,
     "metadata": {},
     "output_type": "execute_result"
    }
   ],
   "source": [
    "bill3.film_list"
   ]
  },
  {
   "cell_type": "code",
   "execution_count": null,
   "metadata": {},
   "outputs": [
    {
     "name": "stdout",
     "output_type": "stream",
     "text": [
      "Name:Space Id:1\n",
      "Name:Bad man Id:2\n",
      "Name:Father Id:3\n",
      "Name:Pggy Id:4\n"
     ]
    }
   ],
   "source": [
    "bill3.remove_film()"
   ]
  },
  {
   "cell_type": "raw",
   "metadata": {},
   "source": [
    "II challenge\n",
    "\n",
    "# For this challenge, create a bank account class that has two attributes:\n",
    "\n",
    "* owner\n",
    "* balance\n",
    "\n",
    "and two methods:\n",
    "\n",
    "* deposit\n",
    "* withdraw\n",
    "\n",
    "As an added requirement, withdrawals may not exceed the available balance.\n",
    "\n",
    "Instantiate your class, make several deposits and withdrawals, and test to make sure the account can't be overdrawn."
   ]
  },
  {
   "cell_type": "code",
   "execution_count": null,
   "metadata": {},
   "outputs": [],
   "source": [
    "class Account:\n",
    "    \n",
    "    def __init__(self,owner,balance):\n",
    "        self.owner=owner\n",
    "        self.balance=balance\n",
    "        \n",
    "    def depo(self,deposite):\n",
    "        self.balance=self.balance+deposite\n",
    "        print(\"Deposit Accepted\")\n",
    "        return self.balance\n",
    "    \n",
    "    def withdraw(self,amount):\n",
    "        if self.balance > amount:\n",
    "            self.balnce=self.balance-amount\n",
    "            print('Withdrow is accepted')\n",
    "        else: print('Withdrow is not accepted')     "
   ]
  },
  {
   "cell_type": "code",
   "execution_count": null,
   "metadata": {},
   "outputs": [],
   "source": [
    "clinet1=Account(\"Snezana\",1000)\n",
    "clinet1.depo(200)\n",
    "print(clinet1.balance)\n",
    "clinet1.withdraw(1500)\n",
    "print(clinet1.balance)"
   ]
  },
  {
   "cell_type": "markdown",
   "metadata": {},
   "source": [
    "class Account:\n",
    "    def __init__(self,owner,balance=0):\n",
    "        self.owner = owner\n",
    "        self.balance = balance\n",
    "        \n",
    "    def __str__(self):\n",
    "        return f'Account owner:   {self.owner}\\nAccount balance: ${self.balance}'\n",
    "        \n",
    "    def deposit(self,dep_amt):\n",
    "        self.balance += dep_amt\n",
    "        print('Deposit Accepted')\n",
    "        \n",
    "    def withdraw(self,wd_amt):\n",
    "        if self.balance >= wd_amt:\n",
    "            self.balance -= wd_amt\n",
    "            print('Withdrawal Accepted')\n",
    "        else:\n",
    "            print('Funds Unavailable!')"
   ]
  },
  {
   "cell_type": "code",
   "execution_count": null,
   "metadata": {},
   "outputs": [],
   "source": [
    "# 1. Instantiate the class\n",
    "acct1 = Account('Jose',100)"
   ]
  },
  {
   "cell_type": "code",
   "execution_count": null,
   "metadata": {},
   "outputs": [],
   "source": [
    "# 2. Print the object\n",
    "print(acct1.owner)"
   ]
  },
  {
   "cell_type": "code",
   "execution_count": null,
   "metadata": {},
   "outputs": [],
   "source": [
    "# 3. Show the account owner attribute\n",
    "acct1.owner"
   ]
  },
  {
   "cell_type": "code",
   "execution_count": null,
   "metadata": {},
   "outputs": [],
   "source": [
    "# 4. Show the account balance attribute\n",
    "acct1.balance"
   ]
  },
  {
   "cell_type": "code",
   "execution_count": null,
   "metadata": {},
   "outputs": [],
   "source": [
    "# 5. Make a series of deposits and withdrawals\n",
    "acct1.deposit(50)"
   ]
  },
  {
   "cell_type": "code",
   "execution_count": null,
   "metadata": {},
   "outputs": [],
   "source": [
    "acct1.withdraw(75)"
   ]
  },
  {
   "cell_type": "code",
   "execution_count": null,
   "metadata": {},
   "outputs": [],
   "source": [
    "# 6. Make a withdrawal that exceeds the available balance\n",
    "acct1.withdraw(500)"
   ]
  },
  {
   "cell_type": "markdown",
   "metadata": {},
   "source": [
    "## Good job!"
   ]
  },
  {
   "cell_type": "code",
   "execution_count": null,
   "metadata": {},
   "outputs": [],
   "source": []
  }
 ],
 "metadata": {
  "kernelspec": {
   "display_name": "Python 3",
   "language": "python",
   "name": "python3"
  },
  "language_info": {
   "codemirror_mode": {
    "name": "ipython",
    "version": 3
   },
   "file_extension": ".py",
   "mimetype": "text/x-python",
   "name": "python",
   "nbconvert_exporter": "python",
   "pygments_lexer": "ipython3",
   "version": "3.7.6"
  }
 },
 "nbformat": 4,
 "nbformat_minor": 2
}
